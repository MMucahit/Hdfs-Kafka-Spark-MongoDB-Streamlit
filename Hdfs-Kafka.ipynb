{
 "cells": [
  {
   "cell_type": "code",
   "execution_count": 1,
   "metadata": {},
   "outputs": [],
   "source": [
    "import findspark\n",
    "findspark.init('/opt/spark/spark-3.2.1-bin-hadoop3.2')"
   ]
  },
  {
   "cell_type": "code",
   "execution_count": 2,
   "metadata": {},
   "outputs": [],
   "source": [
    "import warnings\n",
    "warnings.filterwarnings('ignore')"
   ]
  },
  {
   "cell_type": "code",
   "execution_count": 3,
   "metadata": {},
   "outputs": [
    {
     "name": "stderr",
     "output_type": "stream",
     "text": [
      "22/06/18 11:03:15 WARN Utils: Your hostname, ubuntu-machine resolves to a loopback address: 127.0.1.1; using 192.168.1.134 instead (on interface wlp0s20f3)\n",
      "22/06/18 11:03:15 WARN Utils: Set SPARK_LOCAL_IP if you need to bind to another address\n",
      "Using Spark's default log4j profile: org/apache/spark/log4j-defaults.properties\n",
      "Setting default log level to \"WARN\".\n",
      "To adjust logging level use sc.setLogLevel(newLevel). For SparkR, use setLogLevel(newLevel).\n",
      "22/06/18 11:03:16 WARN NativeCodeLoader: Unable to load native-hadoop library for your platform... using builtin-java classes where applicable\n"
     ]
    }
   ],
   "source": [
    "## Import SparkSession\n",
    "from pyspark.sql import SparkSession\n",
    "\n",
    "## Create SparkSession \n",
    "spark = SparkSession.builder \\\n",
    "      .master(\"local\") \\\n",
    "      .config(\"spark.mongodb.input.uri\", \"mongodb://127.0.0.1/company.myCollection\") \\\n",
    "      .config(\"spark.mongodb.output.uri\", \"mongodb://127.0.0.1/company.myCollection\") \\\n",
    "      .appName(\"Spark-Kafka-Spark-MongoDB-Streamlit\") \\\n",
    "      .getOrCreate() "
   ]
  },
  {
   "cell_type": "code",
   "execution_count": 4,
   "metadata": {},
   "outputs": [
    {
     "name": "stderr",
     "output_type": "stream",
     "text": [
      "                                                                                \r"
     ]
    },
    {
     "name": "stdout",
     "output_type": "stream",
     "text": [
      "root\n",
      " |-- id: integer (nullable = true)\n",
      " |-- first_name: string (nullable = true)\n",
      " |-- job: string (nullable = true)\n",
      " |-- gender: string (nullable = true)\n",
      " |-- salary: double (nullable = true)\n",
      " |-- country: string (nullable = true)\n",
      " |-- car_model_year: integer (nullable = true)\n",
      " |-- car_make: string (nullable = true)\n",
      "\n",
      "+---+----------+--------------------+------+------+--------------------+--------------+-------------+\n",
      "| id|first_name|                 job|gender|salary|             country|car_model_year|     car_make|\n",
      "+---+----------+--------------------+------+------+--------------------+--------------+-------------+\n",
      "|  1|     Lorri|Environmental Spe...|Female|7335.7|               China|          1991|   Mitsubishi|\n",
      "|  2|      Leon|   Account Executive|  Male|8071.1|             Tunisia|          1984|         Ford|\n",
      "|  3|      Eryn|  Environmental Tech|Female|1905.6|Democratic Republ...|          1997|         Audi|\n",
      "|  4|    Nicoli|     General Manager|Female|3724.7|      Czech Republic|          2011|         Jeep|\n",
      "|  5|   Kristyn|    Product Engineer|Female|8129.7|         Philippines|          2000|          GMC|\n",
      "|  6|      Agna| Clinical Specialist|Female|7532.2|              Brazil|          2006|       Nissan|\n",
      "|  7| Jacquetta|    Junior Executive|Female|2320.2|            Honduras|          1993|        Dodge|\n",
      "|  8|     Torry|Structural Analys...|  Male|8470.2|            Thailand|          2002|       Saturn|\n",
      "|  9|     Gunar|Payment Adjustmen...|  Male|4379.6|            Colombia|          1995|       Saturn|\n",
      "| 10|       Hew|       VP Accounting|  Male|5863.0|             Ukraine|          1994|         Jeep|\n",
      "| 11|   Vincent|      Research Nurse|  Male|3627.9|           Indonesia|          1997|       Toyota|\n",
      "| 12|     Emile| Executive Secretary|  Male|1139.1|       United States|          2009|    Chevrolet|\n",
      "| 13|    Kerrin|  Environmental Tech|Female|8312.4|           Indonesia|          2004|          BMW|\n",
      "| 14| Kimberley|           Paralegal|Female|3916.4|            Mongolia|          2009|       Aptera|\n",
      "| 15|     Umeko|Business Systems ...|Female|2601.9|               China|          2011|       Nissan|\n",
      "| 16|     Ulric|    Web Developer IV|  Male|2450.2|           Indonesia|          2010|       Aptera|\n",
      "| 17|   Allyson|             Actuary|Female|8568.2|          Luxembourg|          2003|   Volkswagen|\n",
      "| 18|    Evelin| Assistant Professor|  Male|6695.5|              Serbia|          2010|       Toyota|\n",
      "| 19|    Mannie|Administrative Of...|  Male|3031.3|              France|          1990|     Maserati|\n",
      "| 20|    Anthia|Software Test Eng...|Female|7157.7|      Czech Republic|          2009|Mercedes-Benz|\n",
      "+---+----------+--------------------+------+------+--------------------+--------------+-------------+\n",
      "only showing top 20 rows\n",
      "\n"
     ]
    }
   ],
   "source": [
    "df = spark.read.csv('hdfs://localhost:9000/data/data.csv', header=True, inferSchema=True)\n",
    "df.printSchema()\n",
    "df.show()"
   ]
  },
  {
   "cell_type": "code",
   "execution_count": 5,
   "metadata": {},
   "outputs": [],
   "source": [
    "df = df.toPandas()\n",
    "\n",
    "id_dict = df.to_dict(orient='id')"
   ]
  },
  {
   "cell_type": "code",
   "execution_count": 6,
   "metadata": {},
   "outputs": [],
   "source": [
    "from kafka import KafkaProducer\n",
    "\n",
    "topic = 'data'\n",
    "bootstrap_servers = 'localhost:9092'\n",
    "producer = KafkaProducer(bootstrap_servers=bootstrap_servers)"
   ]
  },
  {
   "cell_type": "code",
   "execution_count": null,
   "metadata": {},
   "outputs": [],
   "source": [
    "for i in range(len(id_dict)):\n",
    "    future = producer.send(topic, bytes(str(id_dict[i]), 'utf-8'))\n",
    "    print(f'Sending msg: {id_dict[i]}')\n",
    "    result = future.get(timeout=60)"
   ]
  },
  {
   "cell_type": "code",
   "execution_count": null,
   "metadata": {},
   "outputs": [],
   "source": []
  }
 ],
 "metadata": {
  "kernelspec": {
   "display_name": "Python 3.10.4 64-bit",
   "language": "python",
   "name": "python3"
  },
  "language_info": {
   "codemirror_mode": {
    "name": "ipython",
    "version": 3
   },
   "file_extension": ".py",
   "mimetype": "text/x-python",
   "name": "python",
   "nbconvert_exporter": "python",
   "pygments_lexer": "ipython3",
   "version": "3.10.4"
  },
  "orig_nbformat": 4,
  "vscode": {
   "interpreter": {
    "hash": "916dbcbb3f70747c44a77c7bcd40155683ae19c65e1c03b4aa3499c5328201f1"
   }
  }
 },
 "nbformat": 4,
 "nbformat_minor": 2
}
