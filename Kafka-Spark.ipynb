{
 "cells": [
  {
   "cell_type": "code",
   "execution_count": 56,
   "metadata": {},
   "outputs": [],
   "source": [
    "import findspark\n",
    "findspark.init('/opt/spark/spark-3.2.1-bin-hadoop3.2')"
   ]
  },
  {
   "cell_type": "code",
   "execution_count": 57,
   "metadata": {},
   "outputs": [],
   "source": [
    "import warnings\n",
    "warnings.filterwarnings('ignore')"
   ]
  },
  {
   "cell_type": "code",
   "execution_count": 58,
   "metadata": {},
   "outputs": [],
   "source": [
    "## Import SparkSession\n",
    "from pyspark.sql import SparkSession\n",
    "\n",
    "## Create SparkSession \n",
    "spark = SparkSession.builder \\\n",
    "      .master(\"local\") \\\n",
    "      .config(\"spark.mongodb.input.uri\", \"mongodb://127.0.0.1/company.myCollection\") \\\n",
    "      .config(\"spark.mongodb.output.uri\", \"mongodb://127.0.0.1/company.myCollection\") \\\n",
    "      .appName(\"Spark-Kafka-Spark-MongoDB-Streamlit\") \\\n",
    "      .getOrCreate() "
   ]
  },
  {
   "cell_type": "code",
   "execution_count": 59,
   "metadata": {},
   "outputs": [
    {
     "name": "stdout",
     "output_type": "stream",
     "text": [
      "root\n",
      " |-- key: binary (nullable = true)\n",
      " |-- value: binary (nullable = true)\n",
      " |-- topic: string (nullable = true)\n",
      " |-- partition: integer (nullable = true)\n",
      " |-- offset: long (nullable = true)\n",
      " |-- timestamp: timestamp (nullable = true)\n",
      " |-- timestampType: integer (nullable = true)\n",
      "\n"
     ]
    }
   ],
   "source": [
    "df = spark \\\n",
    "    .read \\\n",
    "    .format(\"kafka\") \\\n",
    "    .option(\"kafka.bootstrap.servers\", \"localhost:9092\") \\\n",
    "    .option(\"subscribe\", \"data\") \\\n",
    "    .option(\"startingOffsets\", \"earliest\") \\\n",
    "    .load()\n",
    "    \n",
    "df.printSchema()"
   ]
  },
  {
   "cell_type": "code",
   "execution_count": 60,
   "metadata": {},
   "outputs": [],
   "source": [
    "from pyspark.sql.types import StructField, IntegerType, StringType, StructType, DoubleType\n",
    "from pyspark.sql.functions import from_json, col\n",
    "\n",
    "schema = StructType([ \\\n",
    "    StructField(\"id\",IntegerType(),False), \\\n",
    "    StructField(\"first_name\",StringType(),True), \\\n",
    "    StructField(\"job\",StringType(),True), \\\n",
    "    StructField(\"gender\", StringType(), True), \\\n",
    "    StructField(\"salary\", DoubleType(), True), \\\n",
    "    StructField(\"country\", StringType(), True), \\\n",
    "    StructField(\"car_model_year\", IntegerType(), True), \\\n",
    "    StructField(\"car_make\", StringType(), True)\n",
    "  ])"
   ]
  },
  {
   "cell_type": "code",
   "execution_count": 62,
   "metadata": {},
   "outputs": [],
   "source": [
    "df = df.select(from_json(col('value').cast('string'),schema).alias('data')).select('data.*')"
   ]
  },
  {
   "cell_type": "code",
   "execution_count": 63,
   "metadata": {},
   "outputs": [],
   "source": [
    "df.write.format(\"mongo\").mode(\"overwrite\").option(\"database\",\"company\").option(\"collection\", \"raw\").save()"
   ]
  },
  {
   "cell_type": "code",
   "execution_count": null,
   "metadata": {},
   "outputs": [],
   "source": [
    "df_analysis = df.groupBy('country').pivot('gender').agg({'salary':'mean'})"
   ]
  },
  {
   "cell_type": "code",
   "execution_count": 54,
   "metadata": {},
   "outputs": [],
   "source": [
    "df_analysis.write.format(\"mongo\").mode(\"overwrite\").option(\"database\",\"company\").option(\"collection\", \"country_gender_salary\").save()"
   ]
  },
  {
   "cell_type": "code",
   "execution_count": 45,
   "metadata": {},
   "outputs": [],
   "source": [
    "df_analysis= df.groupBy('country').pivot('gender').agg({'id':'count'})"
   ]
  },
  {
   "cell_type": "code",
   "execution_count": 48,
   "metadata": {},
   "outputs": [],
   "source": [
    "df_analysis.write.format(\"mongo\").mode(\"overwrite\").option(\"database\",\"company\").option(\"collection\", \"country_gender\").save()"
   ]
  },
  {
   "cell_type": "code",
   "execution_count": 35,
   "metadata": {},
   "outputs": [],
   "source": [
    "df_analysis = df.groupBy('car_make').agg({'id':'count'}).orderBy('count(id)',ascending=False)"
   ]
  },
  {
   "cell_type": "code",
   "execution_count": 36,
   "metadata": {},
   "outputs": [],
   "source": [
    "df_analysis.write.format(\"mongo\").mode(\"overwrite\").option(\"database\",\"company\").option(\"collection\", \"car_make_count\").save()"
   ]
  }
 ],
 "metadata": {
  "kernelspec": {
   "display_name": "Python 3.10.4 64-bit",
   "language": "python",
   "name": "python3"
  },
  "language_info": {
   "codemirror_mode": {
    "name": "ipython",
    "version": 3
   },
   "file_extension": ".py",
   "mimetype": "text/x-python",
   "name": "python",
   "nbconvert_exporter": "python",
   "pygments_lexer": "ipython3",
   "version": "3.10.4"
  },
  "orig_nbformat": 4,
  "vscode": {
   "interpreter": {
    "hash": "916dbcbb3f70747c44a77c7bcd40155683ae19c65e1c03b4aa3499c5328201f1"
   }
  }
 },
 "nbformat": 4,
 "nbformat_minor": 2
}
